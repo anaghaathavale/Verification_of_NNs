{
 "cells": [
  {
   "cell_type": "code",
   "execution_count": 1,
   "id": "d22911bc-d6fe-48d2-b991-53215ecb34b0",
   "metadata": {},
   "outputs": [],
   "source": [
    "import tensorflow as tf\n",
    "from tensorflow.keras import layers\n",
    "import pandas as pd\n",
    "import numpy as np\n",
    "from tensorflow.keras import datasets, layers, models\n",
    "from tensorflow.keras.utils import to_categorical\n",
    "from sklearn.preprocessing import LabelEncoder\n",
    "\n",
    "df=pd.read_csv('/Users/anaghaathavale/Downloads/compas-scores-raw.csv')"
   ]
  },
  {
   "cell_type": "code",
   "execution_count": 2,
   "id": "5f0b39d4-a41c-44f8-8075-464279c3e169",
   "metadata": {},
   "outputs": [],
   "source": [
    "df=df.drop(['IsCompleted'],axis=1)\n",
    "df=df.drop(['IsDeleted'],axis=1)\n",
    "df=df.drop(['AssessmentType'],axis=1)\n",
    "df=df.drop(['MiddleName'],axis=1)\n",
    "df=df.drop(['Person_ID'],axis=1)\n",
    "df=df.drop(['AssessmentID'],axis=1)\n",
    "df=df.drop(['Case_ID'],axis=1)\n",
    "df=df.drop(['Agency_Text'],axis=1)\n",
    "df=df.drop(['LastName'],axis=1)\n",
    "df=df.drop(['FirstName'],axis=1)\n",
    "df=df.drop(['DateOfBirth'],axis=1)\n",
    "df=df.drop(['Language'],axis=1)\n",
    "df=df.drop(['RecSupervisionLevel'],axis=1)\n",
    "df=df.drop(['RecSupervisionLevelText'],axis=1)\n",
    "df=df.drop(['DisplayText'],axis=1)\n",
    "df=df.drop(['RawScore'],axis=1)\n",
    "df=df.drop(['DecileScore'],axis=1)\n",
    "df=df.drop(['Screening_Date'],axis=1)\n",
    "df=df.drop(['ScaleSet'],axis=1)"
   ]
  },
  {
   "cell_type": "code",
   "execution_count": 3,
   "id": "79355477-387d-4495-bd30-bb70e5318fba",
   "metadata": {},
   "outputs": [],
   "source": [
    "df = df.dropna()"
   ]
  },
  {
   "cell_type": "code",
   "execution_count": 4,
   "id": "433178ff-8b34-4185-a0d1-2b911043531e",
   "metadata": {},
   "outputs": [],
   "source": [
    "indexAge = df[ (df['Ethnic_Code_Text'] == 'Native American')|(df['Ethnic_Code_Text'] == 'Oriental')|\n",
    "              (df['Ethnic_Code_Text'] == 'Arabic')|(df['Ethnic_Code_Text'] == 'Other')|(df['Ethnic_Code_Text'] == 'Hispanic')|(df['Ethnic_Code_Text'] == 'Asian') ].index\n",
    "df.drop(indexAge , inplace=True)"
   ]
  },
  {
   "cell_type": "code",
   "execution_count": 5,
   "id": "c5bf2bd0-ca8d-453d-ba98-0e8fe64444f4",
   "metadata": {},
   "outputs": [],
   "source": [
    "Sex_Code_Text={\"Male\":1, \"Female\":2}\n",
    "df[\"Sex_Code_Text\"]=df[\"Sex_Code_Text\"].map(Sex_Code_Text)"
   ]
  },
  {
   "cell_type": "code",
   "execution_count": 6,
   "id": "7be34923-1679-44f3-826c-30a1f56b218c",
   "metadata": {},
   "outputs": [],
   "source": [
    "Ethnic_Code_Text={\"Caucasian\":1, \"African-American\":2, \"African-Am\":2 }\n",
    "df[\"Ethnic_Code_Text\"]=df[\"Ethnic_Code_Text\"].map(Ethnic_Code_Text)\n",
    "\n",
    "#ScaleSet={\"Risk and Prescreen\":1, \"All Scales\":2}\n",
    "#df[\"ScaleSet\"]=df[\"ScaleSet\"].map(ScaleSet)\n",
    "\n",
    "LegalStatus={'Pretrial':1, 'Post Sentence':2 ,'Conditional Release':3,\n",
    " 'Probation Violator':4, 'Parole Violator':5, 'Deferred Sentencing':6, 'Other':7}\n",
    "df[\"LegalStatus\"]=df[\"LegalStatus\"].map(LegalStatus)\n",
    "\n",
    "AssessmentReason={\"Intake\":1}\n",
    "df[\"AssessmentReason\"]=df[\"AssessmentReason\"].map(AssessmentReason)\n",
    "\n",
    "CustodyStatus={'Jail Inmate':1, 'Probation':2, 'Pretrial Defendant':3, 'Residential Program':4,\n",
    " 'Prison Inmate':5, 'Parole':6}\n",
    "df[\"CustodyStatus\"]=df[\"CustodyStatus\"].map(CustodyStatus)\n",
    "\n",
    "MaritalStatus={'Single':1, 'Married':2, 'Significant Other':3, 'Divorced':4, 'Separated':5, 'Widowed':6,\n",
    " 'Unknown':7}\n",
    "df[\"MaritalStatus\"]=df[\"MaritalStatus\"].map(MaritalStatus)\n",
    "\n",
    "ScoreText={\"Low\":1, \"Medium\":2, \"High\":3 }\n",
    "df[\"ScoreText\"]=df[\"ScoreText\"].map(ScoreText)"
   ]
  },
  {
   "cell_type": "code",
   "execution_count": 7,
   "id": "59448918-6d46-4bb5-9919-cd88db66e276",
   "metadata": {},
   "outputs": [],
   "source": [
    "ScaleSet_ID={22:1, 17:2}\n",
    "df[\"ScaleSet_ID\"]=df[\"ScaleSet_ID\"].map(ScaleSet_ID)\n",
    "Scale_ID={7:1, 8:2, 18:3}\n",
    "df[\"Scale_ID\"]=df[\"Scale_ID\"].map(Scale_ID)"
   ]
  },
  {
   "cell_type": "code",
   "execution_count": 8,
   "id": "c99e7711-8f67-4397-929c-4332bf2d6b3e",
   "metadata": {},
   "outputs": [
    {
     "name": "stdout",
     "output_type": "stream",
     "text": [
      "[[1 1 1 1 1 1 1 1]\n",
      " [1 1 1 1 1 1 1 2]\n",
      " [1 1 1 1 1 1 1 3]\n",
      " [1 1 1 1 1 1 2 1]\n",
      " [1 1 1 1 1 1 2 2]]\n",
      "[1 1 1 1 1]\n"
     ]
    }
   ],
   "source": [
    "X = df.iloc[:,0:8].values\n",
    "y = df.iloc[:,8].values\n",
    "print(X[0:5])\n",
    "print(y[0:5])\n"
   ]
  },
  {
   "cell_type": "code",
   "execution_count": 10,
   "id": "ac436eab-c90c-4548-b4dd-449050cb6699",
   "metadata": {},
   "outputs": [
    {
     "name": "stdout",
     "output_type": "stream",
     "text": [
      "[0 0 0 ... 0 1 0]\n",
      "[[1. 0. 0.]\n",
      " [1. 0. 0.]\n",
      " [1. 0. 0.]\n",
      " ...\n",
      " [1. 0. 0.]\n",
      " [0. 1. 0.]\n",
      " [1. 0. 0.]]\n"
     ]
    }
   ],
   "source": [
    "from sklearn.preprocessing import LabelEncoder\n",
    "from sklearn.preprocessing import OneHotEncoder\n",
    "label_encoder = LabelEncoder()\n",
    "integer_encoded = label_encoder.fit_transform(y)\n",
    "print(integer_encoded)\n",
    "integer_encoded = integer_encoded.reshape(len(integer_encoded), 1)\n",
    "\n",
    "### One hot encoding\n",
    "onehot_encoder = OneHotEncoder(sparse=False)\n",
    "onehot_encoded = onehot_encoder.fit_transform(integer_encoded)\n",
    "Y = onehot_encoded\n",
    "print(Y)"
   ]
  },
  {
   "cell_type": "code",
   "execution_count": 11,
   "id": "bb004bd6-6783-431f-b858-21fcbba44de4",
   "metadata": {},
   "outputs": [
    {
     "name": "stdout",
     "output_type": "stream",
     "text": [
      "Metal device set to: Apple M1\n",
      "Epoch 1/10\n"
     ]
    },
    {
     "name": "stderr",
     "output_type": "stream",
     "text": [
      "2024-02-09 12:27:02.497640: I tensorflow/core/common_runtime/pluggable_device/pluggable_device_factory.cc:305] Could not identify NUMA node of platform GPU ID 0, defaulting to 0. Your kernel may not have been built with NUMA support.\n",
      "2024-02-09 12:27:02.497812: I tensorflow/core/common_runtime/pluggable_device/pluggable_device_factory.cc:271] Created TensorFlow device (/job:localhost/replica:0/task:0/device:GPU:0 with 0 MB memory) -> physical PluggableDevice (device: 0, name: METAL, pci bus id: <undefined>)\n",
      "2024-02-09 12:27:02.613065: W tensorflow/core/platform/profile_utils/cpu_utils.cc:128] Failed to get CPU frequency: 0 Hz\n",
      "2024-02-09 12:27:02.834337: I tensorflow/core/grappler/optimizers/custom_graph_optimizer_registry.cc:113] Plugin optimizer for device_type GPU is enabled.\n"
     ]
    },
    {
     "name": "stdout",
     "output_type": "stream",
     "text": [
      "782/782 [==============================] - 4s 5ms/step - loss: 0.1954 - accuracy: 0.6511\n",
      "Epoch 2/10\n",
      "782/782 [==============================] - 4s 5ms/step - loss: 0.1876 - accuracy: 0.6511\n",
      "Epoch 3/10\n",
      "782/782 [==============================] - 4s 5ms/step - loss: 0.1862 - accuracy: 0.6511\n",
      "Epoch 4/10\n",
      "782/782 [==============================] - 4s 5ms/step - loss: 0.1853 - accuracy: 0.6511\n",
      "Epoch 5/10\n",
      "782/782 [==============================] - 4s 5ms/step - loss: 0.1846 - accuracy: 0.6511\n",
      "Epoch 6/10\n",
      "782/782 [==============================] - 4s 5ms/step - loss: 0.1842 - accuracy: 0.6511\n",
      "Epoch 7/10\n",
      "782/782 [==============================] - 4s 5ms/step - loss: 0.1840 - accuracy: 0.6511\n",
      "Epoch 8/10\n",
      "782/782 [==============================] - 4s 5ms/step - loss: 0.1839 - accuracy: 0.6511\n",
      "Epoch 9/10\n",
      "782/782 [==============================] - 4s 5ms/step - loss: 0.1837 - accuracy: 0.6511\n",
      "Epoch 10/10\n",
      "782/782 [==============================] - 4s 5ms/step - loss: 0.1835 - accuracy: 0.6511\n"
     ]
    },
    {
     "name": "stderr",
     "output_type": "stream",
     "text": [
      "2024-02-09 12:27:41.030878: I tensorflow/core/grappler/optimizers/custom_graph_optimizer_registry.cc:113] Plugin optimizer for device_type GPU is enabled.\n"
     ]
    },
    {
     "name": "stdout",
     "output_type": "stream",
     "text": [
      "Test loss: 0.1808125227689743\n",
      "Test accuracy: 0.6573125720024109\n"
     ]
    },
    {
     "name": "stderr",
     "output_type": "stream",
     "text": [
      "2024-02-09 12:27:41.983192: W tensorflow/python/util/util.cc:368] Sets are not currently considered sequences, but this may change in the future, so consider avoiding using them.\n"
     ]
    },
    {
     "name": "stdout",
     "output_type": "stream",
     "text": [
      "INFO:tensorflow:Assets written to: compasModelFairness/assets\n"
     ]
    }
   ],
   "source": [
    "from sklearn.model_selection import train_test_split\n",
    "X_train, X_test, y_train, y_test = train_test_split(X, Y, test_size=0.2, random_state=0)\n",
    "model = tf.keras.Sequential([\n",
    "    tf.keras.layers.Dense(6, activation='relu'),\n",
    "    tf.keras.layers.Dense(5, activation='relu'),\n",
    "    tf.keras.layers.Dense(3, activation='relu')\n",
    "  ])\n",
    "\n",
    "model.compile(optimizer='adam',\n",
    "              loss='mse',\n",
    "              metrics=['accuracy'])\n",
    "model.fit(X_train, y_train, batch_size=50, epochs=10)\n",
    "\n",
    "loss, accuracy = model.evaluate(X_test, y_test, verbose=0)\n",
    "print('Test loss:', loss)\n",
    "print('Test accuracy:', accuracy)\n",
    "\n",
    "model.save(\"compasModelFairness\")"
   ]
  },
  {
   "cell_type": "code",
   "execution_count": 12,
   "id": "923dd9cd-2323-4579-9e9b-591b1092e7a9",
   "metadata": {},
   "outputs": [
    {
     "name": "stdout",
     "output_type": "stream",
     "text": [
      "Test loss: 0.1808125227689743\n",
      "Test accuracy: 0.6573125720024109\n",
      "INFO:tensorflow:Assets written to: compasModel_Distillation_11HiddenNeurons/assets\n"
     ]
    }
   ],
   "source": [
    "loss, accuracy = model.evaluate(X_test, y_test, verbose=0)\n",
    "print('Test loss:', loss)\n",
    "print('Test accuracy:', accuracy)\n",
    "\n",
    "model.save(\"compasModel_Distillation_11HiddenNeurons\")"
   ]
  },
  {
   "cell_type": "code",
   "execution_count": null,
   "id": "6daa482e-956d-44d1-a3f4-05620db06309",
   "metadata": {},
   "outputs": [],
   "source": []
  }
 ],
 "metadata": {
  "kernelspec": {
   "display_name": "Python 3 (ipykernel)",
   "language": "python",
   "name": "python3"
  },
  "language_info": {
   "codemirror_mode": {
    "name": "ipython",
    "version": 3
   },
   "file_extension": ".py",
   "mimetype": "text/x-python",
   "name": "python",
   "nbconvert_exporter": "python",
   "pygments_lexer": "ipython3",
   "version": "3.9.12"
  }
 },
 "nbformat": 4,
 "nbformat_minor": 5
}
